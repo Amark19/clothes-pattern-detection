{
 "cells": [
  {
   "cell_type": "code",
   "execution_count": 7,
   "id": "capital-times",
   "metadata": {},
   "outputs": [],
   "source": [
    "##our outputs\n",
    "patterns = ['Checked','Woven','Embroidered','Printed','Striped']\n",
    "fabrics = ['Cotton','Polyester','Nylon','Synthetic','Modal']"
   ]
  },
  {
   "cell_type": "code",
   "execution_count": 12,
   "id": "saved-perth",
   "metadata": {},
   "outputs": [],
   "source": [
    "import cv2\n",
    "import os\n",
    "import matplotlib.pyplot as plt\n",
    "from urllib.request import urlopen\n",
    "def basic_img_process(IMG_SIZE,img):\n",
    "    req = urlopen(img)\n",
    "    arr = np.asarray(bytearray(req.read()), dtype=np.uint8)\n",
    "    arr1 = cv2.imdecode(arr, cv2.IMREAD_GRAYSCALE)\n",
    "    img_arr=cv2.resize(arr1,(IMG_SIZE,IMG_SIZE))\n",
    "    return img_arr"
   ]
  },
  {
   "cell_type": "code",
   "execution_count": 124,
   "id": "careful-granny",
   "metadata": {},
   "outputs": [
    {
     "data": {
      "text/plain": [
       "<matplotlib.image.AxesImage at 0x1b66465b430>"
      ]
     },
     "execution_count": 124,
     "metadata": {},
     "output_type": "execute_result"
    },
    {
     "data": {
      "image/png": "[encoded data removed]",
      "text/plain": [
       "<Figure size 432x288 with 1 Axes>"
      ]
     },
     "metadata": {
      "needs_background": "light"
     },
     "output_type": "display_data"
    }
   ],
   "source": [
    "arr = cv2.imread(f\"images-1/{os.listdir('images-1')[22]}\", cv2.IMREAD_GRAYSCALE)\n",
    "arr2 =cv2.resize(arr,(80,80))\n",
    "plt.imshow(arr2,cmap=\"gray\")"
   ]
  },
  {
   "cell_type": "code",
   "execution_count": 161,
   "id": "clinical-conference",
   "metadata": {},
   "outputs": [],
   "source": [
    "\n",
    "IMG_SIZE = 80\n",
    "x = 1\n",
    "def training_data(dirc,featr,no):\n",
    "    try:\n",
    "        train_list = []\n",
    "        count=0\n",
    "        for img in dirc:\n",
    "            arr = cv2.imread(os.path.join(\"images-1\",img),cv2.IMREAD_GRAYSCALE)\n",
    "            x = arr\n",
    "            new_array=cv2.resize(arr,(IMG_SIZE,IMG_SIZE))\n",
    "            classs = img[:-4].split('-')\n",
    "            if classs[no] in featr:\n",
    "                train_list.append([new_array,featr.index(classs[no])])\n",
    "                count+=1\n",
    "    except:\n",
    "        print(x)\n",
    "    return train_list"
   ]
  },
  {
   "cell_type": "code",
   "execution_count": 164,
   "id": "cathedral-closing",
   "metadata": {},
   "outputs": [
    {
     "data": {
      "text/plain": [
       "['Solid-Polyester-Black-4543.jpg',\n",
       " 'Solid-Nylon-Peach-1624.jpg',\n",
       " 'Printed-Cotton-Grey-6017.jpg',\n",
       " 'Printed-Polyester-Blue-6919.jpg',\n",
       " 'Printed-Viscose Rayon-Yellow-3772.jpg']"
      ]
     },
     "execution_count": 164,
     "metadata": {},
     "output_type": "execute_result"
    }
   ],
   "source": [
    "import random\n",
    "dirc = random.sample(os.listdir(\"images-1\"),len(os.listdir(\"images-1\")))\n",
    "dirc[:5]"
   ]
  },
  {
   "cell_type": "code",
   "execution_count": 165,
   "id": "invisible-scanning",
   "metadata": {},
   "outputs": [
    {
     "name": "stdout",
     "output_type": "stream",
     "text": [
      "None\n"
     ]
    },
    {
     "data": {
      "text/plain": [
       "[[array([[242, 242, 242, ..., 242, 242, 242],\n",
       "         [242, 242, 242, ..., 242, 242, 242],\n",
       "         [242, 242, 242, ..., 242, 242, 242],\n",
       "         ...,\n",
       "         [242, 242, 242, ..., 242, 242, 242],\n",
       "         [242, 242, 242, ..., 242, 242, 242],\n",
       "         [242, 242, 242, ..., 242, 242, 242]], dtype=uint8),\n",
       "  3]]"
      ]
     },
     "execution_count": 165,
     "metadata": {},
     "output_type": "execute_result"
    }
   ],
   "source": [
    "##patterns\n",
    "train_list_pat = training_data(dirc,patterns,0)\n",
    "train_list_pat[:1]"
   ]
  },
  {
   "cell_type": "code",
   "execution_count": 113,
   "id": "careful-reform",
   "metadata": {
    "scrolled": true
   },
   "outputs": [
    {
     "data": {
      "text/plain": [
       "[[array([[ 60,  63,  61, ...,  18,  16,  37],\n",
       "         [ 37,  38,  40, ...,  67,  74,  76],\n",
       "         [ 28,  31,  31, ...,  68,  85,  81],\n",
       "         ...,\n",
       "         [225, 226, 226, ..., 239, 239, 240],\n",
       "         [225, 225, 225, ..., 240, 240, 240],\n",
       "         [225, 225, 225, ..., 239, 239, 239]], dtype=uint8),\n",
       "  0]]"
      ]
     },
     "execution_count": 113,
     "metadata": {},
     "output_type": "execute_result"
    }
   ],
   "source": [
    "##fabrics\n",
    "train_list_fab = training_data(dirc,fabrics,1)\n",
    "train_list_fab[:1]"
   ]
  },
  {
   "cell_type": "code",
   "execution_count": 166,
   "id": "optical-position",
   "metadata": {},
   "outputs": [
    {
     "data": {
      "text/plain": [
       "2062"
      ]
     },
     "execution_count": 166,
     "metadata": {},
     "output_type": "execute_result"
    }
   ],
   "source": [
    "len(train_list_pat)"
   ]
  },
  {
   "cell_type": "code",
   "execution_count": 167,
   "id": "early-thompson",
   "metadata": {},
   "outputs": [],
   "source": [
    "##lets create features & labels\n",
    "def create_f_l(train_list):\n",
    "    x=[]\n",
    "    y=[]\n",
    "    IMG_SIZE = 80\n",
    "    for features,label in train_list:\n",
    "        x.append(features)\n",
    "        y.append(label)\n",
    "    ##reshaping into 4d array to feed our deep learning model\n",
    "    X=np.array(x).reshape(-1,IMG_SIZE,IMG_SIZE,1)\n",
    "    print(X.ndim)\n",
    "    print(X.shape)\n",
    "    return X,y"
   ]
  },
  {
   "cell_type": "code",
   "execution_count": 168,
   "id": "quiet-parameter",
   "metadata": {},
   "outputs": [
    {
     "name": "stdout",
     "output_type": "stream",
     "text": [
      "4\n",
      "(2062, 80, 80, 1)\n"
     ]
    }
   ],
   "source": [
    "X_pat, y_pat = create_f_l(train_list_pat)"
   ]
  },
  {
   "cell_type": "code",
   "execution_count": 115,
   "id": "recent-region",
   "metadata": {},
   "outputs": [
    {
     "name": "stdout",
     "output_type": "stream",
     "text": [
      "4\n",
      "(2641, 80, 80, 1)\n"
     ]
    }
   ],
   "source": [
    "X_fab, y_fab = create_f_l(train_list_fab)"
   ]
  },
  {
   "cell_type": "markdown",
   "id": "plastic-nelson",
   "metadata": {},
   "source": [
    "## Model Traaining for patterns"
   ]
  },
  {
   "cell_type": "code",
   "execution_count": 169,
   "id": "assumed-coalition",
   "metadata": {},
   "outputs": [],
   "source": [
    "def train_model(x,y):\n",
    "    X=x/255.0\n",
    "    y=np.array(y)\n",
    "    IMG_SIZE=80\n",
    "    import tensorflow as tf\n",
    "    from tensorflow.keras import datasets, layers, models\n",
    "\n",
    "    cnn = models.Sequential([\n",
    "        layers.Conv2D(filters=32, kernel_size=(3, 3), activation='relu', input_shape=(IMG_SIZE,IMG_SIZE, 1)),\n",
    "        layers.MaxPooling2D((2, 2)),\n",
    "\n",
    "        layers.Conv2D(filters=64, kernel_size=(3, 3), activation='relu'),\n",
    "        layers.MaxPooling2D((2, 2)),\n",
    "\n",
    "        layers.Flatten(),\n",
    "        layers.Dense(64, activation='relu'),\n",
    "        layers.Dense(5, activation='softmax')\n",
    "    ])\n",
    "\n",
    "    cnn.compile(optimizer='adam',\n",
    "                  loss='sparse_categorical_crossentropy',\n",
    "                  metrics=['accuracy'])\n",
    "    cnn.fit(x, y, epochs=10)\n",
    "    return cnn"
   ]
  },
  {
   "cell_type": "code",
   "execution_count": 170,
   "id": "studied-substitute",
   "metadata": {},
   "outputs": [
    {
     "name": "stdout",
     "output_type": "stream",
     "text": [
      "Epoch 1/10\n",
      "65/65 [==============================] - 14s 200ms/step - loss: 15.6833 - accuracy: 0.5087\n",
      "Epoch 2/10\n",
      "65/65 [==============================] - 13s 199ms/step - loss: 1.2200 - accuracy: 0.5999\n",
      "Epoch 3/10\n",
      "65/65 [==============================] - 13s 199ms/step - loss: 1.0225 - accuracy: 0.6518\n",
      "Epoch 4/10\n",
      "65/65 [==============================] - 13s 199ms/step - loss: 0.8302 - accuracy: 0.7085\n",
      "Epoch 5/10\n",
      "65/65 [==============================] - 13s 199ms/step - loss: 0.6582 - accuracy: 0.7570\n",
      "Epoch 6/10\n",
      "65/65 [==============================] - 13s 202ms/step - loss: 0.5327 - accuracy: 0.8138\n",
      "Epoch 7/10\n",
      "65/65 [==============================] - 13s 198ms/step - loss: 0.4500 - accuracy: 0.8375\n",
      "Epoch 8/10\n",
      "65/65 [==============================] - 13s 198ms/step - loss: 0.4533 - accuracy: 0.8458\n",
      "Epoch 9/10\n",
      "65/65 [==============================] - 13s 198ms/step - loss: 0.3138 - accuracy: 0.8952\n",
      "Epoch 10/10\n",
      "65/65 [==============================] - 13s 198ms/step - loss: 0.2812 - accuracy: 0.9083\n"
     ]
    }
   ],
   "source": [
    "##pattern\n",
    "cnn_pt = train_model(X_pat,y_pat)"
   ]
  },
  {
   "cell_type": "code",
   "execution_count": 117,
   "id": "competitive-pitch",
   "metadata": {},
   "outputs": [
    {
     "name": "stdout",
     "output_type": "stream",
     "text": [
      "Epoch 1/10\n",
      "83/83 [==============================] - 19s 220ms/step - loss: 11.1335 - accuracy: 0.6441\n",
      "Epoch 2/10\n",
      "83/83 [==============================] - 17s 211ms/step - loss: 0.7525 - accuracy: 0.7247\n",
      "Epoch 3/10\n",
      "83/83 [==============================] - 18s 220ms/step - loss: 0.5531 - accuracy: 0.7925\n",
      "Epoch 4/10\n",
      "83/83 [==============================] - 22s 269ms/step - loss: 0.4177 - accuracy: 0.8546\n",
      "Epoch 5/10\n",
      "83/83 [==============================] - 21s 258ms/step - loss: 0.3176 - accuracy: 0.8910\n",
      "Epoch 6/10\n",
      "83/83 [==============================] - 17s 208ms/step - loss: 0.2086 - accuracy: 0.9216\n",
      "Epoch 7/10\n",
      "83/83 [==============================] - 17s 205ms/step - loss: 0.1785 - accuracy: 0.9390\n",
      "Epoch 8/10\n",
      "83/83 [==============================] - 17s 206ms/step - loss: 0.1279 - accuracy: 0.9530\n",
      "Epoch 9/10\n",
      "83/83 [==============================] - 18s 216ms/step - loss: 0.0748 - accuracy: 0.9777\n",
      "Epoch 10/10\n",
      "83/83 [==============================] - 19s 224ms/step - loss: 0.0967 - accuracy: 0.9690\n"
     ]
    }
   ],
   "source": [
    "##fabrics\n",
    "cnn_fb = train_model(X_fab,y_fab)"
   ]
  },
  {
   "cell_type": "markdown",
   "id": "optimum-stuart",
   "metadata": {},
   "source": [
    "## Pattern"
   ]
  },
  {
   "cell_type": "code",
   "execution_count": 173,
   "id": "certified-saudi",
   "metadata": {},
   "outputs": [],
   "source": [
    "\n",
    "IMG_SIZE = 80\n",
    "def test_data(path,cnn):\n",
    "    for img in os.listdir(path)[:10]:\n",
    "        arr = cv2.imread(os.path.join(path,img),cv2.IMREAD_GRAYSCALE)\n",
    "        new_array=cv2.resize(arr,(IMG_SIZE,IMG_SIZE))\n",
    "        new1_array=new_array.reshape(-1,IMG_SIZE,IMG_SIZE,1)\n",
    "        print(img,np.argmax(cnn.predict(new1_array)))"
   ]
  },
  {
   "cell_type": "code",
   "execution_count": 174,
   "id": "roman-section",
   "metadata": {},
   "outputs": [
    {
     "name": "stdout",
     "output_type": "stream",
     "text": [
      "Checked_0.jpg 0\n",
      "Checked_1.jpg 3\n",
      "Checked_2.jpg 1\n",
      "Checked_3.jpg 0\n",
      "Checked_4.jpg 0\n",
      "Checked_5.jpg 0\n",
      "Embroidered_10.jpg 1\n",
      "Embroidered_11.jpg 3\n",
      "Embroidered_6.jpg 3\n",
      "Embroidered_7.jpg 4\n"
     ]
    }
   ],
   "source": [
    "test_data(\"test_images/patterns\",cnn_pt)"
   ]
  },
  {
   "cell_type": "markdown",
   "id": "tender-norman",
   "metadata": {},
   "source": [
    "## For fabrics"
   ]
  },
  {
   "cell_type": "code",
   "execution_count": 120,
   "id": "bacterial-cliff",
   "metadata": {},
   "outputs": [
    {
     "name": "stdout",
     "output_type": "stream",
     "text": [
      "Polyester_12.jpg 0\n",
      "Polyester_13.jpg 0\n",
      "Polyester_14.jpg 1\n",
      "Polyester_15.jpg 1\n",
      "Polyester_16.jpg 0\n",
      "Polyester_35.jpg 1\n",
      "Polyester_36.jpg 1\n",
      "Polyester_37.jpg 1\n",
      "Polyester_38.jpg 1\n",
      "Polyester_39.jpg 1\n"
     ]
    }
   ],
   "source": [
    "test_data(\"test_images/fabrics\",cnn_fb)"
   ]
  },
  {
   "cell_type": "code",
   "execution_count": 123,
   "id": "parental-chester",
   "metadata": {},
   "outputs": [
    {
     "data": {
      "text/plain": [
       "2240"
      ]
     },
     "execution_count": 123,
     "metadata": {},
     "output_type": "execute_result"
    }
   ],
   "source": [
    "a = []\n",
    "for img in os.listdir(\"images-1\"):\n",
    "    num = img[:-4].split('-')[3]\n",
    "    if num.isdigit():\n",
    "        a.append(int(num))\n",
    "max(a)"
   ]
  },
  {
   "cell_type": "code",
   "execution_count": 121,
   "id": "english-silly",
   "metadata": {},
   "outputs": [
    {
     "name": "stdout",
     "output_type": "stream",
     "text": [
      "INFO:tensorflow:Assets written to: pattern.model\\assets\n",
      "INFO:tensorflow:Assets written to: fabrics.model\\assets\n"
     ]
    }
   ],
   "source": [
    "##saving both models\n",
    "cnn_pt.save(\"pattern.model\")\n",
    "cnn_fb.save(\"fabrics.model\")"
   ]
  },
  {
   "cell_type": "code",
   "execution_count": null,
   "id": "corrected-photographer",
   "metadata": {},
   "outputs": [],
   "source": []
  }
 ],
 "metadata": {
  "kernelspec": {
   "display_name": "Python 3",
   "language": "python",
   "name": "python3"
  },
  "language_info": {
   "codemirror_mode": {
    "name": "ipython",
    "version": 3
   },
   "file_extension": ".py",
   "mimetype": "text/x-python",
   "name": "python",
   "nbconvert_exporter": "python",
   "pygments_lexer": "ipython3",
   "version": "3.8.3"
  }
 },
 "nbformat": 4,
 "nbformat_minor": 5
}
